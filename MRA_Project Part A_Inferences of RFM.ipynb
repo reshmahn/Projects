{
 "cells": [
  {
   "cell_type": "markdown",
   "id": "f9f24e8d",
   "metadata": {},
   "source": [
    "### MRA Project Part A"
   ]
  },
  {
   "cell_type": "markdown",
   "id": "6ca4feb6",
   "metadata": {},
   "source": [
    "### PART A: Inferences from RFM Analysis and identified segments -> Who are your best customers? (give at least 5) -> Which customers are on the verge of churning? (give at least 5) -> Who are your lost customers? (give at least 5) -> Who are your loyal customers? (give at least 5)\n"
   ]
  },
  {
   "cell_type": "markdown",
   "id": "f5094c50",
   "metadata": {},
   "source": [
    "### Inferences from RFM Analysis and identified segments -"
   ]
  },
  {
   "cell_type": "markdown",
   "id": "763b2288",
   "metadata": {},
   "source": [
    "### Import libraries\n"
   ]
  },
  {
   "cell_type": "code",
   "execution_count": 1,
   "id": "ba0a8f6f",
   "metadata": {},
   "outputs": [],
   "source": [
    "import numpy as np # linear algebra\n",
    "import pandas as pd\n",
    "import matplotlib.pyplot as plt\n",
    "import seaborn as sns"
   ]
  },
  {
   "cell_type": "code",
   "execution_count": 5,
   "id": "c13d4a8b",
   "metadata": {},
   "outputs": [],
   "source": [
    "RFM=pd.read_excel(\"Data with RFM score.xlsx\");"
   ]
  },
  {
   "cell_type": "code",
   "execution_count": 6,
   "id": "856f8927",
   "metadata": {},
   "outputs": [
    {
     "data": {
      "text/html": [
       "<div>\n",
       "<style scoped>\n",
       "    .dataframe tbody tr th:only-of-type {\n",
       "        vertical-align: middle;\n",
       "    }\n",
       "\n",
       "    .dataframe tbody tr th {\n",
       "        vertical-align: top;\n",
       "    }\n",
       "\n",
       "    .dataframe thead th {\n",
       "        text-align: right;\n",
       "    }\n",
       "</style>\n",
       "<table border=\"1\" class=\"dataframe\">\n",
       "  <thead>\n",
       "    <tr style=\"text-align: right;\">\n",
       "      <th></th>\n",
       "      <th>CUSTOMERNAME</th>\n",
       "      <th>ORDERNUMBER</th>\n",
       "      <th>ORDERDATE</th>\n",
       "      <th>SALES</th>\n",
       "    </tr>\n",
       "  </thead>\n",
       "  <tbody>\n",
       "    <tr>\n",
       "      <th>0</th>\n",
       "      <td>Land of Toys Inc.</td>\n",
       "      <td>10107</td>\n",
       "      <td>2018-02-24</td>\n",
       "      <td>2871.00</td>\n",
       "    </tr>\n",
       "    <tr>\n",
       "      <th>1</th>\n",
       "      <td>Reims Collectables</td>\n",
       "      <td>10121</td>\n",
       "      <td>2018-05-07</td>\n",
       "      <td>2765.90</td>\n",
       "    </tr>\n",
       "    <tr>\n",
       "      <th>2</th>\n",
       "      <td>Lyon Souveniers</td>\n",
       "      <td>10134</td>\n",
       "      <td>2018-07-01</td>\n",
       "      <td>3884.34</td>\n",
       "    </tr>\n",
       "    <tr>\n",
       "      <th>3</th>\n",
       "      <td>Toys4GrownUps.com</td>\n",
       "      <td>10145</td>\n",
       "      <td>2018-08-25</td>\n",
       "      <td>3746.70</td>\n",
       "    </tr>\n",
       "    <tr>\n",
       "      <th>4</th>\n",
       "      <td>Technics Stores Inc.</td>\n",
       "      <td>10168</td>\n",
       "      <td>2018-10-28</td>\n",
       "      <td>3479.76</td>\n",
       "    </tr>\n",
       "  </tbody>\n",
       "</table>\n",
       "</div>"
      ],
      "text/plain": [
       "           CUSTOMERNAME  ORDERNUMBER  ORDERDATE    SALES\n",
       "0     Land of Toys Inc.        10107 2018-02-24  2871.00\n",
       "1    Reims Collectables        10121 2018-05-07  2765.90\n",
       "2       Lyon Souveniers        10134 2018-07-01  3884.34\n",
       "3     Toys4GrownUps.com        10145 2018-08-25  3746.70\n",
       "4  Technics Stores Inc.        10168 2018-10-28  3479.76"
      ]
     },
     "execution_count": 6,
     "metadata": {},
     "output_type": "execute_result"
    }
   ],
   "source": [
    "cols=['CUSTOMERNAME', 'ORDERNUMBER', 'ORDERDATE', 'SALES']\n",
    "RFM_df=RFM[cols]\n",
    "RFM_df.head()\n",
    "     "
   ]
  },
  {
   "cell_type": "code",
   "execution_count": 7,
   "id": "79214d5a",
   "metadata": {},
   "outputs": [
    {
     "data": {
      "text/plain": [
       "(2747, 4)"
      ]
     },
     "execution_count": 7,
     "metadata": {},
     "output_type": "execute_result"
    }
   ],
   "source": [
    "RFM_df.shape"
   ]
  },
  {
   "cell_type": "code",
   "execution_count": 8,
   "id": "d42b3703",
   "metadata": {},
   "outputs": [
    {
     "data": {
      "text/html": [
       "<div>\n",
       "<style scoped>\n",
       "    .dataframe tbody tr th:only-of-type {\n",
       "        vertical-align: middle;\n",
       "    }\n",
       "\n",
       "    .dataframe tbody tr th {\n",
       "        vertical-align: top;\n",
       "    }\n",
       "\n",
       "    .dataframe thead th {\n",
       "        text-align: right;\n",
       "    }\n",
       "</style>\n",
       "<table border=\"1\" class=\"dataframe\">\n",
       "  <thead>\n",
       "    <tr style=\"text-align: right;\">\n",
       "      <th></th>\n",
       "      <th>ORDERNUMBER</th>\n",
       "      <th>SALES</th>\n",
       "    </tr>\n",
       "  </thead>\n",
       "  <tbody>\n",
       "    <tr>\n",
       "      <th>count</th>\n",
       "      <td>2747.000000</td>\n",
       "      <td>2747.000000</td>\n",
       "    </tr>\n",
       "    <tr>\n",
       "      <th>mean</th>\n",
       "      <td>10259.761558</td>\n",
       "      <td>3553.047583</td>\n",
       "    </tr>\n",
       "    <tr>\n",
       "      <th>std</th>\n",
       "      <td>91.877521</td>\n",
       "      <td>1838.953901</td>\n",
       "    </tr>\n",
       "    <tr>\n",
       "      <th>min</th>\n",
       "      <td>10100.000000</td>\n",
       "      <td>482.130000</td>\n",
       "    </tr>\n",
       "    <tr>\n",
       "      <th>25%</th>\n",
       "      <td>10181.000000</td>\n",
       "      <td>2204.350000</td>\n",
       "    </tr>\n",
       "    <tr>\n",
       "      <th>50%</th>\n",
       "      <td>10264.000000</td>\n",
       "      <td>3184.800000</td>\n",
       "    </tr>\n",
       "    <tr>\n",
       "      <th>75%</th>\n",
       "      <td>10334.500000</td>\n",
       "      <td>4503.095000</td>\n",
       "    </tr>\n",
       "    <tr>\n",
       "      <th>max</th>\n",
       "      <td>10425.000000</td>\n",
       "      <td>14082.800000</td>\n",
       "    </tr>\n",
       "  </tbody>\n",
       "</table>\n",
       "</div>"
      ],
      "text/plain": [
       "        ORDERNUMBER         SALES\n",
       "count   2747.000000   2747.000000\n",
       "mean   10259.761558   3553.047583\n",
       "std       91.877521   1838.953901\n",
       "min    10100.000000    482.130000\n",
       "25%    10181.000000   2204.350000\n",
       "50%    10264.000000   3184.800000\n",
       "75%    10334.500000   4503.095000\n",
       "max    10425.000000  14082.800000"
      ]
     },
     "execution_count": 8,
     "metadata": {},
     "output_type": "execute_result"
    }
   ],
   "source": [
    "RFM_df.describe()"
   ]
  },
  {
   "cell_type": "code",
   "execution_count": 9,
   "id": "fe0c2502",
   "metadata": {},
   "outputs": [
    {
     "name": "stdout",
     "output_type": "stream",
     "text": [
      "<class 'pandas.core.frame.DataFrame'>\n",
      "RangeIndex: 2747 entries, 0 to 2746\n",
      "Data columns (total 4 columns):\n",
      " #   Column        Non-Null Count  Dtype         \n",
      "---  ------        --------------  -----         \n",
      " 0   CUSTOMERNAME  2747 non-null   object        \n",
      " 1   ORDERNUMBER   2747 non-null   int64         \n",
      " 2   ORDERDATE     2747 non-null   datetime64[ns]\n",
      " 3   SALES         2747 non-null   float64       \n",
      "dtypes: datetime64[ns](1), float64(1), int64(1), object(1)\n",
      "memory usage: 86.0+ KB\n"
     ]
    }
   ],
   "source": [
    "RFM_df.info()"
   ]
  },
  {
   "cell_type": "code",
   "execution_count": 10,
   "id": "6a30a200",
   "metadata": {},
   "outputs": [
    {
     "data": {
      "text/plain": [
       "Timestamp('2020-05-31 00:00:00')"
      ]
     },
     "execution_count": 10,
     "metadata": {},
     "output_type": "execute_result"
    }
   ],
   "source": [
    "RFM_df['ORDERDATE'].max()"
   ]
  },
  {
   "cell_type": "code",
   "execution_count": 11,
   "id": "18fe48fd",
   "metadata": {},
   "outputs": [
    {
     "data": {
      "text/plain": [
       "14082.8"
      ]
     },
     "execution_count": 11,
     "metadata": {},
     "output_type": "execute_result"
    }
   ],
   "source": [
    "RFM_df['SALES'].max()"
   ]
  },
  {
   "cell_type": "markdown",
   "id": "58165039",
   "metadata": {},
   "source": [
    "### Create the RFM Table\n",
    "\n",
    "Given dataset last order date is 31st May, 2020, which we will use to calculate recency"
   ]
  },
  {
   "cell_type": "code",
   "execution_count": 12,
   "id": "262951bc",
   "metadata": {},
   "outputs": [],
   "source": [
    "import datetime as dt\n",
    "NOW = dt.datetime(2020,5,31)"
   ]
  },
  {
   "cell_type": "code",
   "execution_count": 13,
   "id": "6e22cb3e",
   "metadata": {},
   "outputs": [],
   "source": [
    "from datetime import datetime\n",
    "now = datetime.now()\n",
    "     "
   ]
  },
  {
   "cell_type": "code",
   "execution_count": 14,
   "id": "0b9dea96",
   "metadata": {},
   "outputs": [],
   "source": [
    "RFM_table=RFM_df.groupby('CUSTOMERNAME').agg({'ORDERDATE': lambda x: (NOW - x.max()).days, # Recency\n",
    "                                                'ORDERNUMBER': lambda x: len(x.unique()), # Frequency\n",
    "                                                'SALES': lambda x: x.sum()})    # Monetary \n",
    "\n",
    "RFM_table['ORDERDATE'] = RFM_table['ORDERDATE'].astype(int)\n",
    "\n",
    "RFM_table.rename(columns={'ORDERDATE': 'Recency', \n",
    "                         'ORDERNUMBER': 'Frequency',\n",
    "                         'SALES': 'Monetary_value'}, inplace=True)"
   ]
  },
  {
   "cell_type": "code",
   "execution_count": 15,
   "id": "15a3eab1",
   "metadata": {},
   "outputs": [
    {
     "data": {
      "text/html": [
       "<div>\n",
       "<style scoped>\n",
       "    .dataframe tbody tr th:only-of-type {\n",
       "        vertical-align: middle;\n",
       "    }\n",
       "\n",
       "    .dataframe tbody tr th {\n",
       "        vertical-align: top;\n",
       "    }\n",
       "\n",
       "    .dataframe thead th {\n",
       "        text-align: right;\n",
       "    }\n",
       "</style>\n",
       "<table border=\"1\" class=\"dataframe\">\n",
       "  <thead>\n",
       "    <tr style=\"text-align: right;\">\n",
       "      <th></th>\n",
       "      <th>Recency</th>\n",
       "      <th>Frequency</th>\n",
       "      <th>Monetary_value</th>\n",
       "    </tr>\n",
       "    <tr>\n",
       "      <th>CUSTOMERNAME</th>\n",
       "      <th></th>\n",
       "      <th></th>\n",
       "      <th></th>\n",
       "    </tr>\n",
       "  </thead>\n",
       "  <tbody>\n",
       "    <tr>\n",
       "      <th>AV Stores, Co.</th>\n",
       "      <td>196</td>\n",
       "      <td>3</td>\n",
       "      <td>157807.81</td>\n",
       "    </tr>\n",
       "    <tr>\n",
       "      <th>Alpha Cognac</th>\n",
       "      <td>64</td>\n",
       "      <td>3</td>\n",
       "      <td>70488.44</td>\n",
       "    </tr>\n",
       "    <tr>\n",
       "      <th>Amica Models &amp; Co.</th>\n",
       "      <td>265</td>\n",
       "      <td>2</td>\n",
       "      <td>94117.26</td>\n",
       "    </tr>\n",
       "    <tr>\n",
       "      <th>Anna's Decorations, Ltd</th>\n",
       "      <td>83</td>\n",
       "      <td>4</td>\n",
       "      <td>153996.13</td>\n",
       "    </tr>\n",
       "    <tr>\n",
       "      <th>Atelier graphique</th>\n",
       "      <td>188</td>\n",
       "      <td>3</td>\n",
       "      <td>24179.96</td>\n",
       "    </tr>\n",
       "  </tbody>\n",
       "</table>\n",
       "</div>"
      ],
      "text/plain": [
       "                         Recency  Frequency  Monetary_value\n",
       "CUSTOMERNAME                                               \n",
       "AV Stores, Co.               196          3       157807.81\n",
       "Alpha Cognac                  64          3        70488.44\n",
       "Amica Models & Co.           265          2        94117.26\n",
       "Anna's Decorations, Ltd       83          4       153996.13\n",
       "Atelier graphique            188          3        24179.96"
      ]
     },
     "execution_count": 15,
     "metadata": {},
     "output_type": "execute_result"
    }
   ],
   "source": [
    "RFM_table.head()"
   ]
  },
  {
   "cell_type": "markdown",
   "id": "39432ae8",
   "metadata": {},
   "source": [
    "### RFM_Grouping"
   ]
  },
  {
   "cell_type": "code",
   "execution_count": 16,
   "id": "6dc79135",
   "metadata": {},
   "outputs": [
    {
     "data": {
      "text/html": [
       "<div>\n",
       "<style scoped>\n",
       "    .dataframe tbody tr th:only-of-type {\n",
       "        vertical-align: middle;\n",
       "    }\n",
       "\n",
       "    .dataframe tbody tr th {\n",
       "        vertical-align: top;\n",
       "    }\n",
       "\n",
       "    .dataframe thead th {\n",
       "        text-align: right;\n",
       "    }\n",
       "</style>\n",
       "<table border=\"1\" class=\"dataframe\">\n",
       "  <thead>\n",
       "    <tr style=\"text-align: right;\">\n",
       "      <th></th>\n",
       "      <th>Recency</th>\n",
       "      <th>Frequency</th>\n",
       "      <th>Monetary_value</th>\n",
       "    </tr>\n",
       "  </thead>\n",
       "  <tbody>\n",
       "    <tr>\n",
       "      <th>0.25</th>\n",
       "      <td>75.0</td>\n",
       "      <td>2.0</td>\n",
       "      <td>70488.44</td>\n",
       "    </tr>\n",
       "    <tr>\n",
       "      <th>0.50</th>\n",
       "      <td>184.0</td>\n",
       "      <td>3.0</td>\n",
       "      <td>87489.23</td>\n",
       "    </tr>\n",
       "    <tr>\n",
       "      <th>0.75</th>\n",
       "      <td>230.0</td>\n",
       "      <td>3.0</td>\n",
       "      <td>120562.74</td>\n",
       "    </tr>\n",
       "    <tr>\n",
       "      <th>1.00</th>\n",
       "      <td>495.0</td>\n",
       "      <td>26.0</td>\n",
       "      <td>912294.11</td>\n",
       "    </tr>\n",
       "  </tbody>\n",
       "</table>\n",
       "</div>"
      ],
      "text/plain": [
       "      Recency  Frequency  Monetary_value\n",
       "0.25     75.0        2.0        70488.44\n",
       "0.50    184.0        3.0        87489.23\n",
       "0.75    230.0        3.0       120562.74\n",
       "1.00    495.0       26.0       912294.11"
      ]
     },
     "execution_count": 16,
     "metadata": {},
     "output_type": "execute_result"
    }
   ],
   "source": [
    "quantiles = RFM_table.quantile(q=[0.25,0.5,0.75,1.0])\n",
    "quantiles"
   ]
  },
  {
   "cell_type": "markdown",
   "id": "e4a4ce9a",
   "metadata": {},
   "source": [
    "### Converting quantiles to a dictionary, easier to use."
   ]
  },
  {
   "cell_type": "code",
   "execution_count": 17,
   "id": "31a0dfa8",
   "metadata": {},
   "outputs": [
    {
     "data": {
      "text/plain": [
       "{'Recency': {0.25: 75.0, 0.5: 184.0, 0.75: 230.0, 1.0: 495.0},\n",
       " 'Frequency': {0.25: 2.0, 0.5: 3.0, 0.75: 3.0, 1.0: 26.0},\n",
       " 'Monetary_value': {0.25: 70488.44,\n",
       "  0.5: 87489.23000000001,\n",
       "  0.75: 120562.74,\n",
       "  1.0: 912294.11}}"
      ]
     },
     "execution_count": 17,
     "metadata": {},
     "output_type": "execute_result"
    }
   ],
   "source": [
    "quantiles = quantiles.to_dict()\n",
    "quantiles "
   ]
  },
  {
   "cell_type": "code",
   "execution_count": 18,
   "id": "e6cc215b",
   "metadata": {},
   "outputs": [],
   "source": [
    "RFM_Segment = RFM_table.copy()"
   ]
  },
  {
   "cell_type": "code",
   "execution_count": 19,
   "id": "f7173574",
   "metadata": {},
   "outputs": [],
   "source": [
    "# Arguments (x = value, p = recency, monetary_value, frequency, k = quartiles dict)\n",
    "def R_Class(x,p,d):\n",
    "    if x <= d[p][0.25]:\n",
    "        return 4\n",
    "    elif x <= d[p][0.50]:\n",
    "        return 3\n",
    "    elif x <= d[p][0.75]: \n",
    "        return 2\n",
    "    else:\n",
    "        return 1\n",
    "    \n",
    "# Arguments (x = value, p = recency, monetary_value, frequency, k = quartiles dict)\n",
    "def FM_Class(x,p,d):\n",
    "    if x <= d[p][0.25]:\n",
    "        return 1\n",
    "    elif x <= d[p][0.50]:\n",
    "        return 2\n",
    "    elif x <= d[p][0.75]: \n",
    "        return 3\n",
    "    else:\n",
    "        return 4"
   ]
  },
  {
   "cell_type": "code",
   "execution_count": 20,
   "id": "e84d4c6f",
   "metadata": {},
   "outputs": [],
   "source": [
    "RFM_Segment['R_Quartile'] = RFM_Segment['Recency'].apply(R_Class, args=('Recency',quantiles,))\n",
    "RFM_Segment['F_Quartile'] = RFM_Segment['Frequency'].apply(FM_Class, args=('Frequency',quantiles,))\n",
    "RFM_Segment['M_Quartile'] = RFM_Segment['Monetary_value'].apply(FM_Class, args=('Monetary_value',quantiles,))"
   ]
  },
  {
   "cell_type": "code",
   "execution_count": 21,
   "id": "698d4e34",
   "metadata": {},
   "outputs": [],
   "source": [
    "RFM_Segment['RFMClass'] = RFM_Segment.R_Quartile.map(str) \\\n",
    "                            + RFM_Segment.F_Quartile.map(str) \\\n",
    "                            + RFM_Segment.M_Quartile.map(str)"
   ]
  },
  {
   "cell_type": "code",
   "execution_count": 23,
   "id": "894b07c9",
   "metadata": {},
   "outputs": [
    {
     "data": {
      "text/html": [
       "<div>\n",
       "<style scoped>\n",
       "    .dataframe tbody tr th:only-of-type {\n",
       "        vertical-align: middle;\n",
       "    }\n",
       "\n",
       "    .dataframe tbody tr th {\n",
       "        vertical-align: top;\n",
       "    }\n",
       "\n",
       "    .dataframe thead th {\n",
       "        text-align: right;\n",
       "    }\n",
       "</style>\n",
       "<table border=\"1\" class=\"dataframe\">\n",
       "  <thead>\n",
       "    <tr style=\"text-align: right;\">\n",
       "      <th></th>\n",
       "      <th>Recency</th>\n",
       "      <th>Frequency</th>\n",
       "      <th>Monetary_value</th>\n",
       "      <th>R_Quartile</th>\n",
       "      <th>F_Quartile</th>\n",
       "      <th>M_Quartile</th>\n",
       "      <th>RFMClass</th>\n",
       "    </tr>\n",
       "    <tr>\n",
       "      <th>CUSTOMERNAME</th>\n",
       "      <th></th>\n",
       "      <th></th>\n",
       "      <th></th>\n",
       "      <th></th>\n",
       "      <th></th>\n",
       "      <th></th>\n",
       "      <th></th>\n",
       "    </tr>\n",
       "  </thead>\n",
       "  <tbody>\n",
       "    <tr>\n",
       "      <th>AV Stores, Co.</th>\n",
       "      <td>196</td>\n",
       "      <td>3</td>\n",
       "      <td>157807.81</td>\n",
       "      <td>2</td>\n",
       "      <td>2</td>\n",
       "      <td>4</td>\n",
       "      <td>224</td>\n",
       "    </tr>\n",
       "    <tr>\n",
       "      <th>Alpha Cognac</th>\n",
       "      <td>64</td>\n",
       "      <td>3</td>\n",
       "      <td>70488.44</td>\n",
       "      <td>4</td>\n",
       "      <td>2</td>\n",
       "      <td>1</td>\n",
       "      <td>421</td>\n",
       "    </tr>\n",
       "    <tr>\n",
       "      <th>Amica Models &amp; Co.</th>\n",
       "      <td>265</td>\n",
       "      <td>2</td>\n",
       "      <td>94117.26</td>\n",
       "      <td>1</td>\n",
       "      <td>1</td>\n",
       "      <td>3</td>\n",
       "      <td>113</td>\n",
       "    </tr>\n",
       "    <tr>\n",
       "      <th>Anna's Decorations, Ltd</th>\n",
       "      <td>83</td>\n",
       "      <td>4</td>\n",
       "      <td>153996.13</td>\n",
       "      <td>3</td>\n",
       "      <td>4</td>\n",
       "      <td>4</td>\n",
       "      <td>344</td>\n",
       "    </tr>\n",
       "    <tr>\n",
       "      <th>Atelier graphique</th>\n",
       "      <td>188</td>\n",
       "      <td>3</td>\n",
       "      <td>24179.96</td>\n",
       "      <td>2</td>\n",
       "      <td>2</td>\n",
       "      <td>1</td>\n",
       "      <td>221</td>\n",
       "    </tr>\n",
       "    <tr>\n",
       "      <th>Australian Collectables, Ltd</th>\n",
       "      <td>22</td>\n",
       "      <td>3</td>\n",
       "      <td>64591.46</td>\n",
       "      <td>4</td>\n",
       "      <td>2</td>\n",
       "      <td>1</td>\n",
       "      <td>421</td>\n",
       "    </tr>\n",
       "    <tr>\n",
       "      <th>Australian Collectors, Co.</th>\n",
       "      <td>184</td>\n",
       "      <td>5</td>\n",
       "      <td>200995.41</td>\n",
       "      <td>3</td>\n",
       "      <td>4</td>\n",
       "      <td>4</td>\n",
       "      <td>344</td>\n",
       "    </tr>\n",
       "    <tr>\n",
       "      <th>Australian Gift Network, Co</th>\n",
       "      <td>119</td>\n",
       "      <td>3</td>\n",
       "      <td>59469.12</td>\n",
       "      <td>3</td>\n",
       "      <td>2</td>\n",
       "      <td>1</td>\n",
       "      <td>321</td>\n",
       "    </tr>\n",
       "    <tr>\n",
       "      <th>Auto Assoc. &amp; Cie.</th>\n",
       "      <td>233</td>\n",
       "      <td>2</td>\n",
       "      <td>64834.32</td>\n",
       "      <td>1</td>\n",
       "      <td>1</td>\n",
       "      <td>1</td>\n",
       "      <td>111</td>\n",
       "    </tr>\n",
       "    <tr>\n",
       "      <th>Auto Canal Petit</th>\n",
       "      <td>54</td>\n",
       "      <td>3</td>\n",
       "      <td>93170.66</td>\n",
       "      <td>4</td>\n",
       "      <td>2</td>\n",
       "      <td>3</td>\n",
       "      <td>423</td>\n",
       "    </tr>\n",
       "  </tbody>\n",
       "</table>\n",
       "</div>"
      ],
      "text/plain": [
       "                              Recency  Frequency  Monetary_value  R_Quartile  \\\n",
       "CUSTOMERNAME                                                                   \n",
       "AV Stores, Co.                    196          3       157807.81           2   \n",
       "Alpha Cognac                       64          3        70488.44           4   \n",
       "Amica Models & Co.                265          2        94117.26           1   \n",
       "Anna's Decorations, Ltd            83          4       153996.13           3   \n",
       "Atelier graphique                 188          3        24179.96           2   \n",
       "Australian Collectables, Ltd       22          3        64591.46           4   \n",
       "Australian Collectors, Co.        184          5       200995.41           3   \n",
       "Australian Gift Network, Co       119          3        59469.12           3   \n",
       "Auto Assoc. & Cie.                233          2        64834.32           1   \n",
       "Auto Canal Petit                   54          3        93170.66           4   \n",
       "\n",
       "                              F_Quartile  M_Quartile RFMClass  \n",
       "CUSTOMERNAME                                                   \n",
       "AV Stores, Co.                         2           4      224  \n",
       "Alpha Cognac                           2           1      421  \n",
       "Amica Models & Co.                     1           3      113  \n",
       "Anna's Decorations, Ltd                4           4      344  \n",
       "Atelier graphique                      2           1      221  \n",
       "Australian Collectables, Ltd           2           1      421  \n",
       "Australian Collectors, Co.             4           4      344  \n",
       "Australian Gift Network, Co            2           1      321  \n",
       "Auto Assoc. & Cie.                     1           1      111  \n",
       "Auto Canal Petit                       2           3      423  "
      ]
     },
     "execution_count": 23,
     "metadata": {},
     "output_type": "execute_result"
    }
   ],
   "source": [
    "RFM_Segment.head(10)"
   ]
  },
  {
   "cell_type": "code",
   "execution_count": 24,
   "id": "7a4b425b",
   "metadata": {},
   "outputs": [
    {
     "data": {
      "text/plain": [
       "'444'"
      ]
     },
     "execution_count": 24,
     "metadata": {},
     "output_type": "execute_result"
    }
   ],
   "source": [
    "RFM_Segment['RFMClass'].max()"
   ]
  },
  {
   "cell_type": "markdown",
   "id": "34841f5e",
   "metadata": {},
   "source": [
    "### Inferences from RFM Analysis and identified segments -\n",
    "### Who are your best customers? \n",
    "(BY RFMClass = 444)"
   ]
  },
  {
   "cell_type": "code",
   "execution_count": 25,
   "id": "a3da18c5",
   "metadata": {},
   "outputs": [
    {
     "data": {
      "text/html": [
       "<div>\n",
       "<style scoped>\n",
       "    .dataframe tbody tr th:only-of-type {\n",
       "        vertical-align: middle;\n",
       "    }\n",
       "\n",
       "    .dataframe tbody tr th {\n",
       "        vertical-align: top;\n",
       "    }\n",
       "\n",
       "    .dataframe thead th {\n",
       "        text-align: right;\n",
       "    }\n",
       "</style>\n",
       "<table border=\"1\" class=\"dataframe\">\n",
       "  <thead>\n",
       "    <tr style=\"text-align: right;\">\n",
       "      <th></th>\n",
       "      <th>Recency</th>\n",
       "      <th>Frequency</th>\n",
       "      <th>Monetary_value</th>\n",
       "      <th>R_Quartile</th>\n",
       "      <th>F_Quartile</th>\n",
       "      <th>M_Quartile</th>\n",
       "      <th>RFMClass</th>\n",
       "    </tr>\n",
       "    <tr>\n",
       "      <th>CUSTOMERNAME</th>\n",
       "      <th></th>\n",
       "      <th></th>\n",
       "      <th></th>\n",
       "      <th></th>\n",
       "      <th></th>\n",
       "      <th></th>\n",
       "      <th></th>\n",
       "    </tr>\n",
       "  </thead>\n",
       "  <tbody>\n",
       "    <tr>\n",
       "      <th>Euro Shopping Channel</th>\n",
       "      <td>0</td>\n",
       "      <td>26</td>\n",
       "      <td>912294.11</td>\n",
       "      <td>4</td>\n",
       "      <td>4</td>\n",
       "      <td>4</td>\n",
       "      <td>444</td>\n",
       "    </tr>\n",
       "    <tr>\n",
       "      <th>Mini Gifts Distributors Ltd.</th>\n",
       "      <td>2</td>\n",
       "      <td>17</td>\n",
       "      <td>654858.06</td>\n",
       "      <td>4</td>\n",
       "      <td>4</td>\n",
       "      <td>4</td>\n",
       "      <td>444</td>\n",
       "    </tr>\n",
       "    <tr>\n",
       "      <th>La Rochelle Gifts</th>\n",
       "      <td>0</td>\n",
       "      <td>4</td>\n",
       "      <td>180124.90</td>\n",
       "      <td>4</td>\n",
       "      <td>4</td>\n",
       "      <td>4</td>\n",
       "      <td>444</td>\n",
       "    </tr>\n",
       "    <tr>\n",
       "      <th>The Sharp Gifts Warehouse</th>\n",
       "      <td>39</td>\n",
       "      <td>4</td>\n",
       "      <td>160010.27</td>\n",
       "      <td>4</td>\n",
       "      <td>4</td>\n",
       "      <td>4</td>\n",
       "      <td>444</td>\n",
       "    </tr>\n",
       "    <tr>\n",
       "      <th>Souveniers And Things Co.</th>\n",
       "      <td>2</td>\n",
       "      <td>4</td>\n",
       "      <td>151570.98</td>\n",
       "      <td>4</td>\n",
       "      <td>4</td>\n",
       "      <td>4</td>\n",
       "      <td>444</td>\n",
       "    </tr>\n",
       "  </tbody>\n",
       "</table>\n",
       "</div>"
      ],
      "text/plain": [
       "                              Recency  Frequency  Monetary_value  R_Quartile  \\\n",
       "CUSTOMERNAME                                                                   \n",
       "Euro Shopping Channel               0         26       912294.11           4   \n",
       "Mini Gifts Distributors Ltd.        2         17       654858.06           4   \n",
       "La Rochelle Gifts                   0          4       180124.90           4   \n",
       "The Sharp Gifts Warehouse          39          4       160010.27           4   \n",
       "Souveniers And Things Co.           2          4       151570.98           4   \n",
       "\n",
       "                              F_Quartile  M_Quartile RFMClass  \n",
       "CUSTOMERNAME                                                   \n",
       "Euro Shopping Channel                  4           4      444  \n",
       "Mini Gifts Distributors Ltd.           4           4      444  \n",
       "La Rochelle Gifts                      4           4      444  \n",
       "The Sharp Gifts Warehouse              4           4      444  \n",
       "Souveniers And Things Co.              4           4      444  "
      ]
     },
     "execution_count": 25,
     "metadata": {},
     "output_type": "execute_result"
    }
   ],
   "source": [
    "RFM_Segment[RFM_Segment['RFMClass']=='444'].sort_values('Monetary_value', ascending=False).head(5)"
   ]
  },
  {
   "cell_type": "markdown",
   "id": "a4c64d12",
   "metadata": {},
   "source": [
    "### Which customers are at the verge of churning? \n",
    "Customers who's recency value is low"
   ]
  },
  {
   "cell_type": "code",
   "execution_count": 26,
   "id": "476f7ea1",
   "metadata": {},
   "outputs": [
    {
     "data": {
      "text/html": [
       "<div>\n",
       "<style scoped>\n",
       "    .dataframe tbody tr th:only-of-type {\n",
       "        vertical-align: middle;\n",
       "    }\n",
       "\n",
       "    .dataframe tbody tr th {\n",
       "        vertical-align: top;\n",
       "    }\n",
       "\n",
       "    .dataframe thead th {\n",
       "        text-align: right;\n",
       "    }\n",
       "</style>\n",
       "<table border=\"1\" class=\"dataframe\">\n",
       "  <thead>\n",
       "    <tr style=\"text-align: right;\">\n",
       "      <th></th>\n",
       "      <th>Recency</th>\n",
       "      <th>Frequency</th>\n",
       "      <th>Monetary_value</th>\n",
       "      <th>R_Quartile</th>\n",
       "      <th>F_Quartile</th>\n",
       "      <th>M_Quartile</th>\n",
       "      <th>RFMClass</th>\n",
       "    </tr>\n",
       "    <tr>\n",
       "      <th>CUSTOMERNAME</th>\n",
       "      <th></th>\n",
       "      <th></th>\n",
       "      <th></th>\n",
       "      <th></th>\n",
       "      <th></th>\n",
       "      <th></th>\n",
       "      <th></th>\n",
       "    </tr>\n",
       "  </thead>\n",
       "  <tbody>\n",
       "    <tr>\n",
       "      <th>Land of Toys Inc.</th>\n",
       "      <td>198</td>\n",
       "      <td>4</td>\n",
       "      <td>164069.44</td>\n",
       "      <td>2</td>\n",
       "      <td>4</td>\n",
       "      <td>4</td>\n",
       "      <td>244</td>\n",
       "    </tr>\n",
       "    <tr>\n",
       "      <th>AV Stores, Co.</th>\n",
       "      <td>196</td>\n",
       "      <td>3</td>\n",
       "      <td>157807.81</td>\n",
       "      <td>2</td>\n",
       "      <td>2</td>\n",
       "      <td>4</td>\n",
       "      <td>224</td>\n",
       "    </tr>\n",
       "    <tr>\n",
       "      <th>Saveley &amp; Henriot, Co.</th>\n",
       "      <td>456</td>\n",
       "      <td>3</td>\n",
       "      <td>142874.25</td>\n",
       "      <td>1</td>\n",
       "      <td>2</td>\n",
       "      <td>4</td>\n",
       "      <td>124</td>\n",
       "    </tr>\n",
       "    <tr>\n",
       "      <th>Rovelli Gifts</th>\n",
       "      <td>201</td>\n",
       "      <td>3</td>\n",
       "      <td>137955.72</td>\n",
       "      <td>2</td>\n",
       "      <td>2</td>\n",
       "      <td>4</td>\n",
       "      <td>224</td>\n",
       "    </tr>\n",
       "    <tr>\n",
       "      <th>Online Diecast Creations Co.</th>\n",
       "      <td>209</td>\n",
       "      <td>3</td>\n",
       "      <td>131685.30</td>\n",
       "      <td>2</td>\n",
       "      <td>2</td>\n",
       "      <td>4</td>\n",
       "      <td>224</td>\n",
       "    </tr>\n",
       "  </tbody>\n",
       "</table>\n",
       "</div>"
      ],
      "text/plain": [
       "                              Recency  Frequency  Monetary_value  R_Quartile  \\\n",
       "CUSTOMERNAME                                                                   \n",
       "Land of Toys Inc.                 198          4       164069.44           2   \n",
       "AV Stores, Co.                    196          3       157807.81           2   \n",
       "Saveley & Henriot, Co.            456          3       142874.25           1   \n",
       "Rovelli Gifts                     201          3       137955.72           2   \n",
       "Online Diecast Creations Co.      209          3       131685.30           2   \n",
       "\n",
       "                              F_Quartile  M_Quartile RFMClass  \n",
       "CUSTOMERNAME                                                   \n",
       "Land of Toys Inc.                      4           4      244  \n",
       "AV Stores, Co.                         2           4      224  \n",
       "Saveley & Henriot, Co.                 2           4      124  \n",
       "Rovelli Gifts                          2           4      224  \n",
       "Online Diecast Creations Co.           2           4      224  "
      ]
     },
     "execution_count": 26,
     "metadata": {},
     "output_type": "execute_result"
    }
   ],
   "source": [
    "RFM_Segment[RFM_Segment['R_Quartile'] <= 2 ].sort_values('Monetary_value', ascending=False).head(5)"
   ]
  },
  {
   "cell_type": "code",
   "execution_count": 27,
   "id": "ae23765c",
   "metadata": {},
   "outputs": [
    {
     "data": {
      "text/plain": [
       "1"
      ]
     },
     "execution_count": 27,
     "metadata": {},
     "output_type": "execute_result"
    }
   ],
   "source": [
    "RFM_Segment['R_Quartile'].min()"
   ]
  },
  {
   "cell_type": "code",
   "execution_count": 28,
   "id": "28f55253",
   "metadata": {},
   "outputs": [
    {
     "data": {
      "text/plain": [
       "'111'"
      ]
     },
     "execution_count": 28,
     "metadata": {},
     "output_type": "execute_result"
    }
   ],
   "source": [
    "RFM_Segment['RFMClass'].min()"
   ]
  },
  {
   "cell_type": "markdown",
   "id": "ede3ff52",
   "metadata": {},
   "source": [
    "### Who are lost customers? \n",
    "Customers who's recency, frequency as well as monetary values are low"
   ]
  },
  {
   "cell_type": "code",
   "execution_count": 29,
   "id": "af3f5071",
   "metadata": {},
   "outputs": [
    {
     "data": {
      "text/html": [
       "<div>\n",
       "<style scoped>\n",
       "    .dataframe tbody tr th:only-of-type {\n",
       "        vertical-align: middle;\n",
       "    }\n",
       "\n",
       "    .dataframe tbody tr th {\n",
       "        vertical-align: top;\n",
       "    }\n",
       "\n",
       "    .dataframe thead th {\n",
       "        text-align: right;\n",
       "    }\n",
       "</style>\n",
       "<table border=\"1\" class=\"dataframe\">\n",
       "  <thead>\n",
       "    <tr style=\"text-align: right;\">\n",
       "      <th></th>\n",
       "      <th>Recency</th>\n",
       "      <th>Frequency</th>\n",
       "      <th>Monetary_value</th>\n",
       "      <th>R_Quartile</th>\n",
       "      <th>F_Quartile</th>\n",
       "      <th>M_Quartile</th>\n",
       "      <th>RFMClass</th>\n",
       "    </tr>\n",
       "    <tr>\n",
       "      <th>CUSTOMERNAME</th>\n",
       "      <th></th>\n",
       "      <th></th>\n",
       "      <th></th>\n",
       "      <th></th>\n",
       "      <th></th>\n",
       "      <th></th>\n",
       "      <th></th>\n",
       "    </tr>\n",
       "  </thead>\n",
       "  <tbody>\n",
       "    <tr>\n",
       "      <th>Double Decker Gift Stores, Ltd</th>\n",
       "      <td>495</td>\n",
       "      <td>2</td>\n",
       "      <td>36019.04</td>\n",
       "      <td>1</td>\n",
       "      <td>1</td>\n",
       "      <td>1</td>\n",
       "      <td>111</td>\n",
       "    </tr>\n",
       "    <tr>\n",
       "      <th>West Coast Collectables Co.</th>\n",
       "      <td>488</td>\n",
       "      <td>2</td>\n",
       "      <td>46084.64</td>\n",
       "      <td>1</td>\n",
       "      <td>1</td>\n",
       "      <td>1</td>\n",
       "      <td>111</td>\n",
       "    </tr>\n",
       "    <tr>\n",
       "      <th>Signal Collectibles Ltd.</th>\n",
       "      <td>476</td>\n",
       "      <td>2</td>\n",
       "      <td>50218.51</td>\n",
       "      <td>1</td>\n",
       "      <td>1</td>\n",
       "      <td>1</td>\n",
       "      <td>111</td>\n",
       "    </tr>\n",
       "    <tr>\n",
       "      <th>Daedalus Designs Imports</th>\n",
       "      <td>465</td>\n",
       "      <td>2</td>\n",
       "      <td>69052.41</td>\n",
       "      <td>1</td>\n",
       "      <td>1</td>\n",
       "      <td>1</td>\n",
       "      <td>111</td>\n",
       "    </tr>\n",
       "    <tr>\n",
       "      <th>CAF Imports</th>\n",
       "      <td>439</td>\n",
       "      <td>2</td>\n",
       "      <td>49642.05</td>\n",
       "      <td>1</td>\n",
       "      <td>1</td>\n",
       "      <td>1</td>\n",
       "      <td>111</td>\n",
       "    </tr>\n",
       "  </tbody>\n",
       "</table>\n",
       "</div>"
      ],
      "text/plain": [
       "                                Recency  Frequency  Monetary_value  \\\n",
       "CUSTOMERNAME                                                         \n",
       "Double Decker Gift Stores, Ltd      495          2        36019.04   \n",
       "West Coast Collectables Co.         488          2        46084.64   \n",
       "Signal Collectibles Ltd.            476          2        50218.51   \n",
       "Daedalus Designs Imports            465          2        69052.41   \n",
       "CAF Imports                         439          2        49642.05   \n",
       "\n",
       "                                R_Quartile  F_Quartile  M_Quartile RFMClass  \n",
       "CUSTOMERNAME                                                                 \n",
       "Double Decker Gift Stores, Ltd           1           1           1      111  \n",
       "West Coast Collectables Co.              1           1           1      111  \n",
       "Signal Collectibles Ltd.                 1           1           1      111  \n",
       "Daedalus Designs Imports                 1           1           1      111  \n",
       "CAF Imports                              1           1           1      111  "
      ]
     },
     "execution_count": 29,
     "metadata": {},
     "output_type": "execute_result"
    }
   ],
   "source": [
    "RFM_Segment[RFM_Segment['RFMClass']=='111'].sort_values('Recency',ascending=False).head(5)"
   ]
  },
  {
   "cell_type": "markdown",
   "id": "d430b9d7",
   "metadata": {},
   "source": [
    "### Who are your loyal customers? \n",
    "Customers with high frequency value"
   ]
  },
  {
   "cell_type": "code",
   "execution_count": 30,
   "id": "2ee691ac",
   "metadata": {},
   "outputs": [
    {
     "data": {
      "text/html": [
       "<div>\n",
       "<style scoped>\n",
       "    .dataframe tbody tr th:only-of-type {\n",
       "        vertical-align: middle;\n",
       "    }\n",
       "\n",
       "    .dataframe tbody tr th {\n",
       "        vertical-align: top;\n",
       "    }\n",
       "\n",
       "    .dataframe thead th {\n",
       "        text-align: right;\n",
       "    }\n",
       "</style>\n",
       "<table border=\"1\" class=\"dataframe\">\n",
       "  <thead>\n",
       "    <tr style=\"text-align: right;\">\n",
       "      <th></th>\n",
       "      <th>Recency</th>\n",
       "      <th>Frequency</th>\n",
       "      <th>Monetary_value</th>\n",
       "      <th>R_Quartile</th>\n",
       "      <th>F_Quartile</th>\n",
       "      <th>M_Quartile</th>\n",
       "      <th>RFMClass</th>\n",
       "    </tr>\n",
       "    <tr>\n",
       "      <th>CUSTOMERNAME</th>\n",
       "      <th></th>\n",
       "      <th></th>\n",
       "      <th></th>\n",
       "      <th></th>\n",
       "      <th></th>\n",
       "      <th></th>\n",
       "      <th></th>\n",
       "    </tr>\n",
       "  </thead>\n",
       "  <tbody>\n",
       "    <tr>\n",
       "      <th>Euro Shopping Channel</th>\n",
       "      <td>0</td>\n",
       "      <td>26</td>\n",
       "      <td>912294.11</td>\n",
       "      <td>4</td>\n",
       "      <td>4</td>\n",
       "      <td>4</td>\n",
       "      <td>444</td>\n",
       "    </tr>\n",
       "    <tr>\n",
       "      <th>Mini Gifts Distributors Ltd.</th>\n",
       "      <td>2</td>\n",
       "      <td>17</td>\n",
       "      <td>654858.06</td>\n",
       "      <td>4</td>\n",
       "      <td>4</td>\n",
       "      <td>4</td>\n",
       "      <td>444</td>\n",
       "    </tr>\n",
       "    <tr>\n",
       "      <th>Australian Collectors, Co.</th>\n",
       "      <td>184</td>\n",
       "      <td>5</td>\n",
       "      <td>200995.41</td>\n",
       "      <td>3</td>\n",
       "      <td>4</td>\n",
       "      <td>4</td>\n",
       "      <td>344</td>\n",
       "    </tr>\n",
       "    <tr>\n",
       "      <th>Muscle Machine Inc</th>\n",
       "      <td>182</td>\n",
       "      <td>4</td>\n",
       "      <td>197736.94</td>\n",
       "      <td>3</td>\n",
       "      <td>4</td>\n",
       "      <td>4</td>\n",
       "      <td>344</td>\n",
       "    </tr>\n",
       "    <tr>\n",
       "      <th>La Rochelle Gifts</th>\n",
       "      <td>0</td>\n",
       "      <td>4</td>\n",
       "      <td>180124.90</td>\n",
       "      <td>4</td>\n",
       "      <td>4</td>\n",
       "      <td>4</td>\n",
       "      <td>444</td>\n",
       "    </tr>\n",
       "  </tbody>\n",
       "</table>\n",
       "</div>"
      ],
      "text/plain": [
       "                              Recency  Frequency  Monetary_value  R_Quartile  \\\n",
       "CUSTOMERNAME                                                                   \n",
       "Euro Shopping Channel               0         26       912294.11           4   \n",
       "Mini Gifts Distributors Ltd.        2         17       654858.06           4   \n",
       "Australian Collectors, Co.        184          5       200995.41           3   \n",
       "Muscle Machine Inc                182          4       197736.94           3   \n",
       "La Rochelle Gifts                   0          4       180124.90           4   \n",
       "\n",
       "                              F_Quartile  M_Quartile RFMClass  \n",
       "CUSTOMERNAME                                                   \n",
       "Euro Shopping Channel                  4           4      444  \n",
       "Mini Gifts Distributors Ltd.           4           4      444  \n",
       "Australian Collectors, Co.             4           4      344  \n",
       "Muscle Machine Inc                     4           4      344  \n",
       "La Rochelle Gifts                      4           4      444  "
      ]
     },
     "execution_count": 30,
     "metadata": {},
     "output_type": "execute_result"
    }
   ],
   "source": [
    "RFM_Segment[RFM_Segment['F_Quartile'] >= 3 ].sort_values('Monetary_value', ascending=False).head(5)"
   ]
  },
  {
   "cell_type": "code",
   "execution_count": null,
   "id": "6821c185",
   "metadata": {},
   "outputs": [],
   "source": []
  }
 ],
 "metadata": {
  "kernelspec": {
   "display_name": "Python 3 (ipykernel)",
   "language": "python",
   "name": "python3"
  },
  "language_info": {
   "codemirror_mode": {
    "name": "ipython",
    "version": 3
   },
   "file_extension": ".py",
   "mimetype": "text/x-python",
   "name": "python",
   "nbconvert_exporter": "python",
   "pygments_lexer": "ipython3",
   "version": "3.11.4"
  }
 },
 "nbformat": 4,
 "nbformat_minor": 5
}
